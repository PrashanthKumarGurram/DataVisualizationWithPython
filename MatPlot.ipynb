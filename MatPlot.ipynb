{
 "cells": [
  {
   "cell_type": "code",
   "execution_count": 2,
   "metadata": {},
   "outputs": [],
   "source": [
    "%matplotlib inline\n",
    "\n",
    "import matplotlib as mpl\n",
    "import matplotlib as plt"
   ]
  },
  {
   "cell_type": "code",
   "execution_count": 3,
   "metadata": {},
   "outputs": [
    {
     "name": "stdout",
     "output_type": "stream",
     "text": [
      "matplotlib version :  3.1.1\n"
     ]
    }
   ],
   "source": [
    "print('matplotlib version : ', mpl.__version__)"
   ]
  },
  {
   "cell_type": "code",
   "execution_count": 4,
   "metadata": {},
   "outputs": [
    {
     "name": "stdout",
     "output_type": "stream",
     "text": [
      "['seaborn-paper', 'grayscale', 'seaborn-bright', 'seaborn-dark', 'seaborn-ticks', 'Solarize_Light2', 'seaborn-whitegrid', 'bmh', 'seaborn-white', 'seaborn-dark-palette', 'seaborn-notebook', 'dark_background', 'tableau-colorblind10', 'ggplot', 'seaborn-talk', '_classic_test', 'seaborn-darkgrid', 'seaborn-muted', 'seaborn-pastel', 'seaborn-colorblind', 'fast', 'seaborn', 'seaborn-deep', 'classic', 'seaborn-poster', 'fivethirtyeight']\n"
     ]
    }
   ],
   "source": [
    "print(plt.style.available)"
   ]
  },
  {
   "cell_type": "code",
   "execution_count": null,
   "metadata": {},
   "outputs": [],
   "source": [
    "mpl.style.use(['ggplot'])"
   ]
  }
 ],
 "metadata": {
  "kernelspec": {
   "display_name": "Python",
   "language": "python",
   "name": "conda-env-python-py"
  },
  "language_info": {
   "codemirror_mode": {
    "name": "ipython",
    "version": 3
   },
   "file_extension": ".py",
   "mimetype": "text/x-python",
   "name": "python",
   "nbconvert_exporter": "python",
   "pygments_lexer": "ipython3",
   "version": "3.6.10"
  }
 },
 "nbformat": 4,
 "nbformat_minor": 4
}
